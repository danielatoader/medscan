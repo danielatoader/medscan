{
 "cells": [
  {
   "cell_type": "markdown",
   "id": "05c8c54f",
   "metadata": {},
   "source": [
    "# LASA recognition"
   ]
  },
  {
   "cell_type": "markdown",
   "id": "ec48a594",
   "metadata": {},
   "source": [
    "## Sound-alike"
   ]
  },
  {
   "cell_type": "code",
   "execution_count": 2,
   "id": "f0d3b776",
   "metadata": {},
   "outputs": [],
   "source": [
    "import pandas as pd\n",
    "import numpy as np\n",
    "import sklearn as sk\n",
    "from sklearn.cluster import KMeans, AffinityPropagation\n",
    "import matplotlib.pyplot as plt\n",
    "import nltk\n",
    "from nltk.metrics.distance import edit_distance\n",
    "from tqdm.notebook import tqdm\n",
    "import pickle\n",
    "import string\n",
    "import sys, math, random, copy"
   ]
  },
  {
   "cell_type": "code",
   "execution_count": 3,
   "id": "2e4de66b",
   "metadata": {},
   "outputs": [],
   "source": [
    "df = pd.read_csv(\"./drugsatfda20211116/Products.txt\", sep='\\t+', engine='python')\n",
    "drugNames = df['DrugName']"
   ]
  },
  {
   "cell_type": "code",
   "execution_count": 4,
   "id": "86013066",
   "metadata": {
    "scrolled": true
   },
   "outputs": [
    {
     "data": {
      "text/plain": [
       "6555                          ENABLEX\n",
       "4309     NITROGLYCERIN IN DEXTROSE 5%\n",
       "8543                      BENZONATATE\n",
       "43123                          AVSOLA\n",
       "201                         GANTRISIN\n",
       "5628                      METROLOTION\n",
       "21053             EPOPROSTENOL SODIUM\n",
       "10491                      GENTACIDIN\n",
       "5343                          EMADINE\n",
       "4133                           ADAGEN\n",
       "Name: DrugName, dtype: object"
      ]
     },
     "execution_count": 4,
     "metadata": {},
     "output_type": "execute_result"
    }
   ],
   "source": [
    "drugNames = drugNames.drop_duplicates() \\\n",
    "                     .dropna()\n",
    "random_incides = [np.random.randint(0, len(drugNames)) for _ in range(10)]\n",
    "drugNames.iloc[random_incides]"
   ]
  },
  {
   "cell_type": "code",
   "execution_count": 6,
   "id": "f57c44ab",
   "metadata": {},
   "outputs": [
    {
     "name": "stdout",
     "output_type": "stream",
     "text": [
      "164\n"
     ]
    }
   ],
   "source": [
    "names = np.array(drugNames)\n",
    "lasa_names_ISMP_FDA = np.unique(np.loadtxt(\"lists_LASA/sa_ISMP+FDA.txt\", dtype=str))\n",
    "# lasa_names_ISMP = np.unique(np.loadtxt(\"lists_LASA/sa_ISMP.txt\", dtype=str, delimiter=\"\\n\"))\n",
    "# lasa_names = np.append(lasa_names_ISMP_FDA, lasa_names_ISMP)\n",
    "# names = np.append(lasa_names, names)\n",
    "# names = [each_string.lower() for each_string in names]\n",
    "names = np.append(lasa_names_ISMP_FDA, names)\n",
    "names = np.unique(names)\n",
    "print(len(lasa_names_ISMP_FDA))"
   ]
  },
  {
   "cell_type": "code",
   "execution_count": 7,
   "id": "a768617f",
   "metadata": {},
   "outputs": [],
   "source": [
    "# Calculate similarity matrix between letters\n",
    "# Adapted from Samuelsson, made for Spotify\n",
    "# Neighbors are currently chosen by phonetic experimentation\n",
    "neighbors_of = {}\n",
    "neighbors_of['q'] = ['w', 'c', 'k']\n",
    "neighbors_of['w'] = ['v', 'u']\n",
    "neighbors_of['e'] = ['i', 'y', 'a']\n",
    "neighbors_of['r'] = ['t', 'f', 'd', 'e']\n",
    "neighbors_of['t'] = ['d', 'f', 'r', 'v', 'p']\n",
    "neighbors_of['y'] = ['i', 'e', 'a', 'u']\n",
    "neighbors_of['u'] = ['i', 'y', 'o', 'a', 'e', 'w']\n",
    "neighbors_of['i'] = ['e', 'y', 'u']\n",
    "neighbors_of['o'] = ['e', 'u']\n",
    "neighbors_of['p'] = ['l', 'o', 't']\n",
    "neighbors_of['a'] = ['e', 'i', 'u', 'y']\n",
    "neighbors_of['s'] = ['x', 'z', 'c']\n",
    "neighbors_of['d'] = ['b', 'f', 't', 'p']\n",
    "neighbors_of['f'] = ['v', 'd', 't']\n",
    "neighbors_of['g'] = ['j', 'h', 'q']\n",
    "neighbors_of['h'] = ['f', 'g']\n",
    "neighbors_of['j'] = ['g', 'c']\n",
    "neighbors_of['k'] = ['c', 'q']\n",
    "neighbors_of['l'] = ['m', 'n']\n",
    "neighbors_of['z'] = ['s', 'x', 'c']\n",
    "neighbors_of['x'] = ['s', 'c', 'z', 'k']\n",
    "neighbors_of['c'] = ['k', 's']\n",
    "neighbors_of['v'] = ['f', 'b', 'c', 'w']\n",
    "neighbors_of['b'] = ['g', 'n', 'v', 'd']\n",
    "neighbors_of['n'] = ['m', 'b']\n",
    "neighbors_of['m'] = ['b', 'n']\n",
    "\n",
    "keys = sorted(neighbors_of.keys())\n",
    "dists = {el:{} for el in keys}\n",
    "\n",
    "# Distance between letters and their neighbours\n",
    "def distance(start, end, raw):\n",
    "    if start == end:\n",
    "        if raw:\n",
    "            return 0\n",
    "        else:\n",
    "            return 1\n",
    "        \n",
    "    visited = [start]\n",
    "    queue = []\n",
    "    \n",
    "    for key in neighbors_of[start]:\n",
    "        queue.append({'char': key, 'dist': 1})\n",
    "        \n",
    "    while True:\n",
    "        key = queue.pop(0)\n",
    "        visited.append(key['char'])\n",
    "        if key['char'] == end:\n",
    "            return key['dist']\n",
    "        \n",
    "        for neighbor in neighbors_of[key['char']]:\n",
    "            if neighbor not in visited:\n",
    "                queue.append({'char': neighbor, 'dist': key['dist']+1})"
   ]
  },
  {
   "cell_type": "code",
   "execution_count": 10,
   "id": "a5716cb4",
   "metadata": {},
   "outputs": [],
   "source": [
    "# Computes a similarity matrix for letters of the English alphabet\n",
    "# Inspired by the keyboard distances research of Samuelsson for Spotify\n",
    "def alldists(option, verbose):          \n",
    "    if option == \"raw\":\n",
    "        longest_dist = 0\n",
    "        avgdist = 0\n",
    "        for i in range(len(keys)):\n",
    "            for j in range(len(keys)):\n",
    "                dists[keys[i]][keys[j]] = distance(keys[i], keys[j], True)\n",
    "                avgdist += dists[keys[i]][keys[j]]\n",
    "                if dists[keys[i]][keys[j]] > longest_dist:\n",
    "                    longest_dist = dists[keys[i]][keys[j]]\n",
    "        key_dist = longest_dist\n",
    "        avgdist /= len(keys) ** 2 + 0.0\n",
    "        \n",
    "        buckets = [0, 0, 0, 0, 0, 0, 0, 0, 0, 0]\n",
    "        \n",
    "        for i in range(len(keys)):\n",
    "            for j in range(len(keys)):\n",
    "                buckets[dists[keys[i]][keys[j]]] += 1\n",
    "        if verbose:\n",
    "            print(\"Average distance: \" + str(avgdist))\n",
    "            print(\"Longest distance: \" + str(key_dist))\n",
    "            print(\"Buckets: \" + str(buckets))\n",
    "            print(str(dists).replace(\"'\", '\"'))\n",
    "    return copy.deepcopy(dists)"
   ]
  },
  {
   "cell_type": "code",
   "execution_count": 11,
   "id": "0f9edd30",
   "metadata": {},
   "outputs": [],
   "source": [
    "# Take all ascii characters\n",
    "all_ascii = string.printable\n",
    "\n",
    "# Add the manually computed Edit Distance for letters to the full similarity matrix\n",
    "# Add hardcoded similarity for the other characters (0 if same character, 12 otherwise)\n",
    "similarity_dict = alldists(\"raw\", False)\n",
    "similarity_dict_all = {}\n",
    "\n",
    "# Construct full similarity matrix by iterating through all ascii characters\n",
    "for a in all_ascii:\n",
    "    similarity_dict_all[a] = {}\n",
    "    for b in all_ascii:\n",
    "        # If characters are the same, assign 0\n",
    "        # Otherwise if similarity has alredy been computed, assign that value\n",
    "        # Otherwise assign 12      \n",
    "        similarity_dict_all[a][b] = (0 if a == b else similarity_dict[a][b] if a in similarity_dict and b in similarity_dict[a] else 12)\n",
    "similarity_array = np.zeros((len(similarity_dict), len(similarity_dict)))\n",
    "\n",
    "for character_index, (character, other_characters) in enumerate(similarity_dict.items()):\n",
    "    for c_index, c in enumerate(other_characters.values()):\n",
    "        similarity_array[character_index][c_index] = c"
   ]
  },
  {
   "cell_type": "code",
   "execution_count": 14,
   "id": "3c15211c",
   "metadata": {},
   "outputs": [
    {
     "data": {
      "text/plain": [
       "4.0"
      ]
     },
     "execution_count": 14,
     "metadata": {},
     "output_type": "execute_result"
    }
   ],
   "source": [
    "ins_cost = 3\n",
    "del_cost = 4\n",
    "\n",
    "def edit_distance_dp(seq1, seq2):\n",
    "    # There is no difference between upper and lower case for this application    \n",
    "    seq1 = seq1.lower()\n",
    "    seq2 = seq2.lower()\n",
    "    \n",
    "    # Create an empty 2D matrix to store cost\n",
    "    cost = np.zeros((len(seq1)+1, len(seq2)+1))\n",
    "    \n",
    "    # Fill the first row\n",
    "    cost[0] = [i for i in range(len(seq2)+1)]\n",
    "    \n",
    "    # Fill the first column\n",
    "    cost[:, 0] = [i for i in range(len(seq1)+1)]\n",
    "    \n",
    "    # Iterate over earch row and column\n",
    "    for row in range(1, len(seq1)+1):\n",
    "        \n",
    "        for col in range(1, len(seq2)+1):\n",
    "            \n",
    "            # If both the characters are same then the cost will be same as \n",
    "            # the cost of the previous sub-sequence\n",
    "            if seq1[row-1] == seq2[col-1]:\n",
    "                cost[row][col] = cost[row-1][col-1]\n",
    "            else:\n",
    "                \n",
    "                insertion_cost = cost[row][col-1] + ins_cost\n",
    "                deletion_cost = cost[row-1][col] + del_cost\n",
    "                substitution_cost = cost[row-1][col-1] + similarity_dict_all[seq1[row-1]][seq2[col-1]]\n",
    "#                 print(f\"sim for {seq1[row-1]} and {seq2[col-1]}: {similarity_dict_all[seq1[row-1]][seq2[col-1]]}\")\n",
    "                \n",
    "                # Calculate the minimum cost\n",
    "                cost[row][col] = min(insertion_cost, deletion_cost, substitution_cost)\n",
    "                \n",
    "    return cost[len(seq1), len(seq2)]\n",
    "\n",
    "edit_distance_dp(\"novolin\", \"novolog\")"
   ]
  },
  {
   "cell_type": "code",
   "execution_count": 15,
   "id": "f6c46614",
   "metadata": {},
   "outputs": [
    {
     "data": {
      "application/vnd.jupyter.widget-view+json": {
       "model_id": "62f433879d084950a15ba57f39768016",
       "version_major": 2,
       "version_minor": 0
      },
      "text/plain": [
       "  0%|          | 0/100 [00:00<?, ?it/s]"
      ]
     },
     "metadata": {},
     "output_type": "display_data"
    }
   ],
   "source": [
    "# Levenshtein distance\n",
    "# n = len(names)\n",
    "n = 100\n",
    "lev_dist = np.zeros((n, n))\n",
    "lev_sim = np.zeros((n, n))\n",
    "\n",
    "for i in tqdm(range(n)):\n",
    "    for j in range(i+1, n):\n",
    "        ni = names[i]\n",
    "        nj = names[j]\n",
    "        dist = edit_distance_dp(ni, nj)\n",
    "        lev_dist[i, j] = dist\n",
    "        lev_dist[j, i] = dist\n",
    "        \n",
    "file_path = 'lev_dist.pickle'\n",
    "pickle.dump(lev_dist, open(file_path, \"wb\"))\n",
    "# lev_dist = pickle.load(open(file_path, \"rb\"))"
   ]
  },
  {
   "cell_type": "code",
   "execution_count": 16,
   "id": "853c5cb0",
   "metadata": {},
   "outputs": [],
   "source": [
    "# Apply thresholding so not all medications get clustered\n",
    "# Only used in the first stages of the research\n",
    "def is_row_similar(row, threshold=26):\n",
    "    sorted_row = sorted(row)[:len(row)//4]\n",
    "    return np.average(sorted_row) < threshold\n",
    "\n",
    "filter_lev_dist = []\n",
    "columns_to_remove = []\n",
    "for i, row in enumerate(lev_dist):\n",
    "    if is_row_similar(row):\n",
    "        filter_lev_dist.append(row)  \n",
    "    else:\n",
    "        columns_to_remove.append(i) \n",
    "\n",
    "for i, row in enumerate(filter_lev_dist):\n",
    "    filter_lev_dist[i] = [entry for c, entry in enumerate(row) if c not in columns_to_remove]\n",
    "      \n",
    "filter_lev_dist = np.array(filter_lev_dist)"
   ]
  },
  {
   "cell_type": "code",
   "execution_count": 17,
   "id": "f7a76461",
   "metadata": {},
   "outputs": [],
   "source": [
    "# Distance to similarity\n",
    "lev_sim = 1 / (1 + lev_dist)"
   ]
  },
  {
   "cell_type": "code",
   "execution_count": 18,
   "id": "0a0e4d6d",
   "metadata": {
    "scrolled": true
   },
   "outputs": [
    {
     "name": "stdout",
     "output_type": "stream",
     "text": [
      "Converged after 15 iterations.\n",
      "Found 14 clusters.\n"
     ]
    },
    {
     "name": "stderr",
     "output_type": "stream",
     "text": [
      "C:\\Users\\danie\\anaconda3\\lib\\site-packages\\sklearn\\cluster\\_affinity_propagation.py:148: FutureWarning: 'random_state' has been introduced in 0.23. It will be set to None starting from 1.0 (renaming of 0.25) which means that results will differ at every function call. Set 'random_state' to None to silence this warning, or to 0 to keep the behavior of versions <0.23.\n",
      "  warnings.warn(\n"
     ]
    }
   ],
   "source": [
    "# Cluster on computed similarities\n",
    "aff_prop = AffinityPropagation(affinity=\"precomputed\", damping=0.96,max_iter = 10000, verbose=True)\n",
    "aff_prop.fit(lev_sim)\n",
    "print(f'Found {len(aff_prop.cluster_centers_indices_)} clusters.')"
   ]
  },
  {
   "cell_type": "code",
   "execution_count": 19,
   "id": "6980e676",
   "metadata": {},
   "outputs": [
    {
     "name": "stdout",
     "output_type": "stream",
     "text": [
      "1. \u001b[1mABACAVIR SULFATE AND LAMIVUDINE\u001b[0m (4 members): ABACAVIR AND LAMIVUDINE, ABACAVIR SULFATE AND LAMIVUDINE, ABACAVIR SULFATE, LAMIVUDINE AND ZIDOVUDINE, ABACAVIR SULFATE; LAMIVUDINE\n",
      "2. \u001b[1mACETAMINOPHEN AND CODEINE PHOSPHATE\u001b[0m (1 members): ACETAMINOPHEN AND CODEINE PHOSPHATE\n",
      "3. \u001b[1mACETAMINOPHEN AND PENTAZOCINE HYDROCHLORIDE\u001b[0m (2 members): ACETAMINOPHEN AND HYDROCODONE BITARTRATE, ACETAMINOPHEN AND PENTAZOCINE HYDROCHLORIDE\n",
      "4. \u001b[1mACETAMINOPHEN, ASPIRIN, AND CODEINE PHOSPHATE\u001b[0m (2 members): ACETAMINOPHEN, ASPIRIN AND CAFFEINE, ACETAMINOPHEN, ASPIRIN, AND CODEINE PHOSPHATE\n",
      "5. \u001b[1mACETAMINOPHEN, CAFFEINE AND DIHYDROCODEINE BITARTRATE\u001b[0m (2 members): ACETAMINOPHEN, CAFFEINE AND DIHYDROCODEINE BITARTRATE, ACETAMINOPHEN, CAFFEINE, AND DIHYDROCODEINE BITARTRATE\n",
      "6. \u001b[1mACETAMINOPHEN; OXYCODONE HYDROCHLORIDE\u001b[0m (1 members): ACETAMINOPHEN; OXYCODONE HYDROCHLORIDE\n",
      "7. \u001b[1mACETASOL\u001b[0m (20 members): 8-MOP, A.P.L., ABELCET, ABILIFY MYCITE KIT, ABIRATERONE ACETATE, ABSORICA, ABSORICA LD, ACANYA, ACARBOSE, ACCUPRIL, ACCURETIC, ACETADOTE, ACETASOL, ACETASOL HC, ACETAZOLAMIDE, ACETIC ACID, ACETIC ACID W/ HYDROCORTISONE, ACHROMYCIN, ACILAC, ACTICLATE CAP\n",
      "8. \u001b[1mACETATED RINGER'S IN PLASTIC CONTAINER\u001b[0m (1 members): ACETATED RINGER'S IN PLASTIC CONTAINER\n",
      "9. \u001b[1mACETIC ACID 0.25% IN PLASTIC CONTAINER\u001b[0m (1 members): ACETIC ACID 0.25% IN PLASTIC CONTAINER\n",
      "10. \u001b[1mACETIC ACID 2% IN AQUEOUS ALUMINUM ACETATE\u001b[0m (1 members): ACETIC ACID 2% IN AQUEOUS ALUMINUM ACETATE\n",
      "11. \u001b[1mACTHAR\u001b[0m (19 members): A/T/S, ABILIFY MAINTENA KIT, ABLAVAR, ACCOLATE, ACEPHEN, ACETAMINOPHEN, ACIPHEX, ACIPHEX SPRINKLE, ACTH, ACTHAR, ACTHAR GEL, ACTHREL, ACTICLATE, ACTIQ, ACTOPLUS MET XR, ACTOS, ACTRON, ACULAR, ACULAR LS\n",
      "12. \u001b[1mACTIFED\u001b[0m (44 members): 8-HOUR BAYER, A-HYDROCORT, A-METHAPRED, A-POXIDE, ABACAVIR SULFATE, ABACAVIR; LAMIVUDINE, ABILIFY, ABITREXATE, ABLYSINOL, ABRAXANE, ABREVA, ABRILADA, ABSTRAL, ACAMPROSATE CALCIUM, ACCRETROPIN, ACCRUFER, ACCUNEB, ACCURBRON, ACCUTANE, ACEBUTOLOL HYDROCHLORIDE, ACEON, ACETAZOLAMIDE SODIUM, ACETOHEXAMIDE, ACETYLCYSTEINE, ACHES-N-PAIN, ACHROMYCIN V, ACITRETIN, ACLOVATE, ACTAHIST, ACTEMRA, ACTICORT, ACTIDIL, ACTIFED, ACTIGALL, ACTIMMUNE, ACTIN-N, ACTINEX, ACTISITE, ACTIVASE, ACTIVELLA, ACTONEL, ACTOPLUS MET, ACULAR PRESERVATIVE FREE, ACUTECT\n",
      "13. \u001b[1mACTIFED W/ CODEINE\u001b[0m (1 members): ACTIFED W/ CODEINE\n",
      "14. \u001b[1mACTONEL WITH CALCIUM (COPACKAGED)\u001b[0m (1 members): ACTONEL WITH CALCIUM (COPACKAGED)\n"
     ]
    }
   ],
   "source": [
    "for cluster_id in range(len(aff_prop.cluster_centers_indices_)):\n",
    "    exemplar = names[aff_prop.cluster_centers_indices_[cluster_id]]\n",
    "    members = names[np.nonzero(aff_prop.labels_ == cluster_id)]\n",
    "\n",
    "    print(f'{cluster_id + 1}. \\033[1m{exemplar}\\033[0m ({len(members)} members): {\", \".join(members)}')"
   ]
  },
  {
   "cell_type": "code",
   "execution_count": 25,
   "id": "96c5cb87",
   "metadata": {},
   "outputs": [
    {
     "name": "stdout",
     "output_type": "stream",
     "text": [
      "\u001b[1mACETAMINOPHEN, CAFFEINE AND DIHYDROCODEINE BITARTRATE\u001b[0m (2 most similar from 2 total): ACETAMINOPHEN, CAFFEINE, AND DIHYDROCODEINE BITARTRATE, ACETAMINOPHEN, CAFFEINE AND DIHYDROCODEINE BITARTRATE\n",
      "\u001b[1mACETASOL\u001b[0m (2 most similar from 20 total): ACHROMYCIN, ACETASOL\n",
      "\u001b[1mACTHAR\u001b[0m (7 most similar from 19 total): ACEPHEN, ACTH, ACTOS, ACTHAR, ACTIQ, ACIPHEX, ACTICLATE\n",
      "\u001b[1mACTIFED\u001b[0m (6 most similar from 44 total): ACTONEL, ACTIDIL, ACHROMYCIN V, ACTIFED, ACTISITE, ACTICORT\n"
     ]
    }
   ],
   "source": [
    "clusters = dict()\n",
    "all_LASA = []\n",
    "t=7\n",
    "for cluster_id in range(len(aff_prop.cluster_centers_indices_)):\n",
    "    exemplar = names[aff_prop.cluster_centers_indices_[cluster_id]]\n",
    "    member_ind = np.nonzero(aff_prop.labels_ == cluster_id)\n",
    "    members = names[member_ind]\n",
    "    most_similar_members = set()\n",
    "    # For each member (member index) of the cluster, check if it is similar enough to the rest     \n",
    "    for member in member_ind[0]:\n",
    "        for datapoint in range(len(lev_dist)):\n",
    "            # Omit the distance to the point itself and if it does not have distances below threshold,\n",
    "            # remove it, probably not LASA\n",
    "            if (member != datapoint and lev_dist[member][datapoint] < t):\n",
    "                most_similar_members.add(names[member])\n",
    "        most_similar_members.add(exemplar)\n",
    "                \n",
    "    if len(most_similar_members) > 1:\n",
    "        clusters[cluster_id] = most_similar_members\n",
    "        all_LASA.append(list(most_similar_members))\n",
    "        print(f'\\033[1m{exemplar}\\033[0m ({len(most_similar_members)} most similar from {len(members)} total): {\", \".join(most_similar_members)}')"
   ]
  },
  {
   "cell_type": "code",
   "execution_count": 29,
   "id": "c3b2a9ce",
   "metadata": {},
   "outputs": [
    {
     "name": "stdout",
     "output_type": "stream",
     "text": [
      "17\n",
      "[{'ACETAMINOPHEN, CAFFEINE, AND DIHYDROCODEINE BITARTRATE', 'ACETAMINOPHEN, CAFFEINE AND DIHYDROCODEINE BITARTRATE'}, {'ACHROMYCIN', 'ACETASOL'}, {'ACEPHEN', 'ACTH', 'ACTOS', 'ACTHAR', 'ACTIQ', 'ACIPHEX', 'ACTICLATE'}, {'ACTONEL', 'ACTIDIL', 'ACHROMYCIN V', 'ACTIFED', 'ACTISITE', 'ACTICORT'}]\n"
     ]
    }
   ],
   "source": [
    "# Flatten the list for easy LASA check\n",
    "LASA = [item for sublist in all_LASA for item in sublist]\n",
    "print(len(LASA))\n",
    "it = list(clusters.values())\n",
    "print(it)"
   ]
  },
  {
   "cell_type": "code",
   "execution_count": 40,
   "id": "dfd009ae",
   "metadata": {},
   "outputs": [],
   "source": [
    "# Good results:\n",
    "# 19. cloZAPine (4 members): QUEtiapine, azaTHIOprine, cloZAPine, clomiPHENE\n",
    "# OxyCONTIN (3 members): FLUoxetine, OxyCONTIN, oxyMORphone\n",
    "# 10. oxyCODONE (11 members): QUEtiapine, chlorproMAZINE, clonazePAM, hydrOXYzine, oxyCODONE, AMINOPHYLLIN, FOLVRON, HYPROTIGEN 5%, VI-TWEL, BENEMID, PAMINE\n",
    "# 53. TENSILON (12 members): DACTINomycin, busPIRone, sulfADIAZINE, STILBESTROL, SUS-PHRINE SULFITE FREE, TENSILON, PROMETHAZINE HYDROCHLORIDE PLAIN, PRO-BANTHINE, SERPANRAY, SERPALAN, RITALIN, METICORTELONE\n",
    "# 54. TENSILON PRESERVATIVE FREE (6 members): buPROPion, cefTAZidime, VASOXYL, POTASSIUM CHLORIDE, TENSILON PRESERVATIVE FREE, STERANE\n",
    "# 1. DEPO-Medrol (5 members): DEPO-Medrol, NexAVAR, NovoLOG, PARoxetine, PROzac\n",
    "# 45. GANTRISIN PEDIATRIC (10 members): HumuLIN, OxyCONTIN, hydrOXYzine, GANTRISIN PEDIATRIC, DIUPRES-250, PLEGINE, PARNATE, TENUATE DOSPAN, VOSOL HC, NOVRAD\n",
    "# 2. DAPTOmycin (7 members): DAPTOmycin, KlonoPIN, methIMAzole, raNITIdine, riMANTAdine, rifAMPin, ALCOHOL 10% AND DEXTROSE 5%"
   ]
  }
 ],
 "metadata": {
  "kernelspec": {
   "display_name": "Python 3",
   "language": "python",
   "name": "python3"
  },
  "language_info": {
   "codemirror_mode": {
    "name": "ipython",
    "version": 3
   },
   "file_extension": ".py",
   "mimetype": "text/x-python",
   "name": "python",
   "nbconvert_exporter": "python",
   "pygments_lexer": "ipython3",
   "version": "3.8.8"
  }
 },
 "nbformat": 4,
 "nbformat_minor": 5
}
