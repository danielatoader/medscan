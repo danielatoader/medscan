{
 "cells": [
  {
   "cell_type": "code",
   "execution_count": 2,
   "id": "eef5479a",
   "metadata": {},
   "outputs": [],
   "source": [
    "import pandas as pd\n",
    "import numpy as np\n",
    "import sklearn as sk\n",
    "from sklearn.cluster import KMeans, AffinityPropagation\n",
    "import matplotlib.pyplot as plt\n",
    "import nltk\n",
    "from nltk.metrics.distance import edit_distance\n",
    "from tqdm.notebook import tqdm\n",
    "import sys\n",
    "import pickle\n",
    "import string\n",
    "import sys, math, random, copy"
   ]
  },
  {
   "cell_type": "code",
   "execution_count": 3,
   "id": "f9b6143f",
   "metadata": {},
   "outputs": [
    {
     "ename": "NameError",
     "evalue": "name 'drugNames' is not defined",
     "output_type": "error",
     "traceback": [
      "\u001b[1;31m---------------------------------------------------------------------------\u001b[0m",
      "\u001b[1;31mNameError\u001b[0m                                 Traceback (most recent call last)",
      "\u001b[1;32m<ipython-input-3-fc4719c670a8>\u001b[0m in \u001b[0;36m<module>\u001b[1;34m\u001b[0m\n\u001b[0;32m      1\u001b[0m \u001b[0mdf\u001b[0m \u001b[1;33m=\u001b[0m \u001b[0mpd\u001b[0m\u001b[1;33m.\u001b[0m\u001b[0mread_csv\u001b[0m\u001b[1;33m(\u001b[0m\u001b[1;34m\"./drugsatfda20211116/Products.txt\"\u001b[0m\u001b[1;33m,\u001b[0m \u001b[0msep\u001b[0m\u001b[1;33m=\u001b[0m\u001b[1;34m'\\t+'\u001b[0m\u001b[1;33m,\u001b[0m \u001b[0mengine\u001b[0m\u001b[1;33m=\u001b[0m\u001b[1;34m'python'\u001b[0m\u001b[1;33m)\u001b[0m\u001b[1;33m\u001b[0m\u001b[1;33m\u001b[0m\u001b[0m\n\u001b[1;32m----> 2\u001b[1;33m \u001b[0mdrugNames\u001b[0m \u001b[1;33m=\u001b[0m \u001b[0mdrugNames\u001b[0m\u001b[1;33m.\u001b[0m\u001b[0mdrop_duplicates\u001b[0m\u001b[1;33m(\u001b[0m\u001b[1;33m)\u001b[0m\u001b[0;31m \u001b[0m\u001b[0;31m\\\u001b[0m\u001b[1;33m\u001b[0m\u001b[1;33m\u001b[0m\u001b[0m\n\u001b[0m\u001b[0;32m      3\u001b[0m                      \u001b[1;33m.\u001b[0m\u001b[0mdropna\u001b[0m\u001b[1;33m(\u001b[0m\u001b[1;33m)\u001b[0m\u001b[1;33m\u001b[0m\u001b[1;33m\u001b[0m\u001b[0m\n\u001b[0;32m      4\u001b[0m \u001b[0mrandom_incides\u001b[0m \u001b[1;33m=\u001b[0m \u001b[1;33m[\u001b[0m\u001b[0mnp\u001b[0m\u001b[1;33m.\u001b[0m\u001b[0mrandom\u001b[0m\u001b[1;33m.\u001b[0m\u001b[0mrandint\u001b[0m\u001b[1;33m(\u001b[0m\u001b[1;36m0\u001b[0m\u001b[1;33m,\u001b[0m \u001b[0mlen\u001b[0m\u001b[1;33m(\u001b[0m\u001b[0mdrugNames\u001b[0m\u001b[1;33m)\u001b[0m\u001b[1;33m)\u001b[0m \u001b[1;32mfor\u001b[0m \u001b[0m_\u001b[0m \u001b[1;32min\u001b[0m \u001b[0mrange\u001b[0m\u001b[1;33m(\u001b[0m\u001b[1;36m10\u001b[0m\u001b[1;33m)\u001b[0m\u001b[1;33m]\u001b[0m\u001b[1;33m\u001b[0m\u001b[1;33m\u001b[0m\u001b[0m\n\u001b[0;32m      5\u001b[0m \u001b[0mdrugNames\u001b[0m\u001b[1;33m.\u001b[0m\u001b[0miloc\u001b[0m\u001b[1;33m[\u001b[0m\u001b[0mrandom_incides\u001b[0m\u001b[1;33m]\u001b[0m\u001b[1;33m\u001b[0m\u001b[1;33m\u001b[0m\u001b[0m\n",
      "\u001b[1;31mNameError\u001b[0m: name 'drugNames' is not defined"
     ]
    }
   ],
   "source": [
    "df = pd.read_csv(\"./drugsatfda20211116/Products.txt\", sep='\\t+', engine='python')\n",
    "drugNames = df['DrugName']\n",
    "drugNames = drugNames.drop_duplicates() \\\n",
    "                     .dropna()\n",
    "random_incides = [np.random.randint(0, len(drugNames)) for _ in range(10)]\n",
    "drugNames.iloc[random_incides]\n",
    "names = np.array(drugNames)\n",
    "lasa_names = np.unique(np.loadtxt(\"lists_LASA/sa_ISMP+FDA.txt\", dtype=str))\n",
    "names = np.append(lasa_names, names)"
   ]
  },
  {
   "cell_type": "code",
   "execution_count": null,
   "id": "673a0c57",
   "metadata": {},
   "outputs": [],
   "source": [
    "# Apply thresholding so not all medications get clustered (so not everything gets clasified as LASA)\n",
    "file_path = 'lev_dist_FDA_newphonetic_1000_wLASA.pickle'\n",
    "# pickle.dump(lev_dist, open(file_path, \"wb\"))\n",
    "lev_dist = pickle.load(open(file_path, \"rb\"))\n",
    "\n",
    "# Distance to similarity\n",
    "lev_sim = 1 / (1 + lev_dist)\n",
    "\n",
    "# Cluster on computed similarities\n",
    "aff_prop = AffinityPropagation(affinity=\"precomputed\", damping=0.96,max_iter = 1000, verbose=True)\n",
    "aff_prop.fit(lev_sim)\n",
    "print(f'Found {len(aff_prop.cluster_centers_indices_)} clusters.')"
   ]
  },
  {
   "cell_type": "code",
   "execution_count": null,
   "id": "d14f492c",
   "metadata": {},
   "outputs": [],
   "source": [
    "clusters = []\n",
    "all_LASA = []\n",
    "t=20\n",
    "for cluster_id in range(len(aff_prop.cluster_centers_indices_)):\n",
    "    exemplar = names[aff_prop.cluster_centers_indices_[cluster_id]]\n",
    "    member_ind = np.nonzero(aff_prop.labels_ == cluster_id)\n",
    "    members = names[member_ind]\n",
    "    most_similar_members = set()\n",
    "    # For each member (member index) of the cluster, check if it is similar enough to the rest     \n",
    "    for member in member_ind[0]:\n",
    "        for datapoint in range(len(lev_dist)):\n",
    "            # Omit the point itself and it does not have distances below threshold, remove it, probably not LASA\n",
    "            if (member != datapoint and lev_dist[member][datapoint] < t):\n",
    "                most_similar_members.add(names[member])\n",
    "        most_similar_members.add(exemplar)\n",
    "                \n",
    "    if len(most_similar_members) > 1:\n",
    "        clusters.append({str(cluster_id) : most_similar_members})\n",
    "        all_LASA.append(list(most_similar_members))\n",
    "#         print(f'\\033[1m{exemplar}\\033[0m ({len(most_similar_members)} most similar from {len(members)} total): {\", \".join(most_similar_members)}')"
   ]
  }
 ],
 "metadata": {
  "kernelspec": {
   "display_name": "Python 3",
   "language": "python",
   "name": "python3"
  },
  "language_info": {
   "codemirror_mode": {
    "name": "ipython",
    "version": 3
   },
   "file_extension": ".py",
   "mimetype": "text/x-python",
   "name": "python",
   "nbconvert_exporter": "python",
   "pygments_lexer": "ipython3",
   "version": "3.8.8"
  }
 },
 "nbformat": 4,
 "nbformat_minor": 5
}
